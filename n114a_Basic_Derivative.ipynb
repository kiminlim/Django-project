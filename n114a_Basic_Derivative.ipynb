{
  "nbformat": 4,
  "nbformat_minor": 0,
  "metadata": {
    "colab": {
      "name": "n114a-Basic Derivative.ipynb",
      "provenance": [],
      "collapsed_sections": [],
      "include_colab_link": true
    },
    "kernelspec": {
      "display_name": "Python 3",
      "language": "python",
      "name": "python3"
    },
    "language_info": {
      "codemirror_mode": {
        "name": "ipython",
        "version": 3
      },
      "file_extension": ".py",
      "mimetype": "text/x-python",
      "name": "python",
      "nbconvert_exporter": "python",
      "pygments_lexer": "ipython3",
      "version": "3.8.2"
    }
  },
  "cells": [
    {
      "cell_type": "markdown",
      "metadata": {
        "id": "view-in-github",
        "colab_type": "text"
      },
      "source": [
        "<a href=\"https://colab.research.google.com/github/kiminlim/Django-project/blob/master/n114a_Basic_Derivative.ipynb\" target=\"_parent\"><img src=\"https://colab.research.google.com/assets/colab-badge.svg\" alt=\"Open In Colab\"/></a>"
      ]
    },
    {
      "cell_type": "markdown",
      "metadata": {
        "id": "G5hwlPlsGega"
      },
      "source": [
        "<img src='https://i.imgur.com/RDAD11M.png' width = '200' align = 'right'>\n",
        "\n",
        "## *DATA SCIENCE / SECTION 1 / SPRINT 1 / NOTE 4*\n",
        "\n",
        "---\n",
        "\n",
        "# 📝 Assignment\n",
        "\n"
      ]
    },
    {
      "cell_type": "markdown",
      "metadata": {
        "id": "UEwHe7owmDC9"
      },
      "source": [
        "## 1. Dataset 불러오기\n",
        "> seaborn 라이브러리의 load_dataset()을 활용해서 iris 데이터셋을 데이터프레임으로 불러옵니다. 데이터프레임의 이름은 df_iris로 합니다. <br>\n",
        "> df_iris의 shape의 **첫번째 값을 두번째 값으로 나눈 값**을 `res1`에 저장하세요"
      ]
    },
    {
      "cell_type": "code",
      "metadata": {
        "id": "880phxxZmDC_",
        "colab": {
          "base_uri": "https://localhost:8080/"
        },
        "outputId": "197f2fb5-08e9-401d-cdd3-1dba61d1ee11"
      },
      "source": [
        "import seaborn as sns\n",
        "import numpy as np\n",
        "np.random.seed(42)\n",
        "\n",
        "# 이곳에 답안을 작성합니다.\n",
        "df_iris =sns. load_dataset('iris')\n",
        "a, b = df_iris.shape\n",
        "res1 = a / b\n",
        "print(a, b, res1)"
      ],
      "execution_count": 2,
      "outputs": [
        {
          "output_type": "stream",
          "text": [
            "150 5 30.0\n"
          ],
          "name": "stdout"
        }
      ]
    },
    {
      "cell_type": "markdown",
      "metadata": {
        "id": "Zigbih_EmDDA"
      },
      "source": [
        "## 2. X 구하기\n",
        "> df_iris에서 sepal_length만 남겨주세요. 그리고 sepal_length 칼럼의 이름은 x로 바꿉니다"
      ]
    },
    {
      "cell_type": "code",
      "metadata": {
        "id": "zMSqGHO229wo",
        "colab": {
          "base_uri": "https://localhost:8080/"
        },
        "outputId": "8ea60c64-e6c5-4314-a461-184ebcae00d9"
      },
      "source": [
        "df_iris.columns"
      ],
      "execution_count": 3,
      "outputs": [
        {
          "output_type": "execute_result",
          "data": {
            "text/plain": [
              "Index(['sepal_length', 'sepal_width', 'petal_length', 'petal_width',\n",
              "       'species'],\n",
              "      dtype='object')"
            ]
          },
          "metadata": {
            "tags": []
          },
          "execution_count": 3
        }
      ]
    },
    {
      "cell_type": "code",
      "metadata": {
        "id": "ncrfElGCmDDB",
        "colab": {
          "base_uri": "https://localhost:8080/",
          "height": 205
        },
        "outputId": "3207fb5d-2f8e-457a-8827-a2d8a277b61e"
      },
      "source": [
        "# 이곳에 답안을 작성합니다.\n",
        "df_iris['x'] = df_iris['sepal_length']\n",
        "df_iris = df_iris.drop([ 'sepal_length', 'sepal_width', 'petal_length', 'petal_width', 'species'] ,axis=1)\n",
        "df_iris.head()"
      ],
      "execution_count": 4,
      "outputs": [
        {
          "output_type": "execute_result",
          "data": {
            "text/html": [
              "<div>\n",
              "<style scoped>\n",
              "    .dataframe tbody tr th:only-of-type {\n",
              "        vertical-align: middle;\n",
              "    }\n",
              "\n",
              "    .dataframe tbody tr th {\n",
              "        vertical-align: top;\n",
              "    }\n",
              "\n",
              "    .dataframe thead th {\n",
              "        text-align: right;\n",
              "    }\n",
              "</style>\n",
              "<table border=\"1\" class=\"dataframe\">\n",
              "  <thead>\n",
              "    <tr style=\"text-align: right;\">\n",
              "      <th></th>\n",
              "      <th>x</th>\n",
              "    </tr>\n",
              "  </thead>\n",
              "  <tbody>\n",
              "    <tr>\n",
              "      <th>0</th>\n",
              "      <td>5.1</td>\n",
              "    </tr>\n",
              "    <tr>\n",
              "      <th>1</th>\n",
              "      <td>4.9</td>\n",
              "    </tr>\n",
              "    <tr>\n",
              "      <th>2</th>\n",
              "      <td>4.7</td>\n",
              "    </tr>\n",
              "    <tr>\n",
              "      <th>3</th>\n",
              "      <td>4.6</td>\n",
              "    </tr>\n",
              "    <tr>\n",
              "      <th>4</th>\n",
              "      <td>5.0</td>\n",
              "    </tr>\n",
              "  </tbody>\n",
              "</table>\n",
              "</div>"
            ],
            "text/plain": [
              "     x\n",
              "0  5.1\n",
              "1  4.9\n",
              "2  4.7\n",
              "3  4.6\n",
              "4  5.0"
            ]
          },
          "metadata": {
            "tags": []
          },
          "execution_count": 4
        }
      ]
    },
    {
      "cell_type": "markdown",
      "metadata": {
        "id": "az0kx_sxHYri"
      },
      "source": [
        "## 3. 기초 미분\n",
        "\n",
        "다음 함수를 미분한 도함수를 구한 후에 num_one 함수를 완성하세요. \n",
        "$f(x) = 4x^5 + 9x^3 + ex^2 - 7$\n",
        "\n",
        "- num_one 함수를 x에 적용한 후에 **derivative_one**이라는 칼럼으로 df_iris에 저장합니다. (Hint : df.apply)\n",
        "- derivative_one 칼럼의 합을 `res2`에 저장합니다 (소수점 세자리까지)"
      ]
    },
    {
      "cell_type": "code",
      "metadata": {
        "id": "J5ha7GquLbCo"
      },
      "source": [
        "import math\n",
        "from math import exp\n",
        "import numpy as np\n",
        "\n",
        "def num_one(x):\n",
        "    return  20*(x**4) + 27*(x**2) + 2*np.exp(1)*x \n",
        "#    np.exp(1)*(x**2)  # 이곳에 답안을 작성해주시기 바랍니다"
      ],
      "execution_count": 42,
      "outputs": []
    },
    {
      "cell_type": "code",
      "metadata": {
        "id": "tuHyDs913ozW",
        "colab": {
          "base_uri": "https://localhost:8080/"
        },
        "outputId": "9e5c3872-78f5-4b94-ca57-7dc734c67aaf"
      },
      "source": [
        "df_iris['derivative_one'] = df_iris['x'].apply(num_one)\n",
        "res2 = round( df_iris['derivative_one'].sum(), 3 )\n",
        "\n",
        "res2\n",
        "# sum(df_iris['derivative_one'])"
      ],
      "execution_count": 43,
      "outputs": [
        {
          "output_type": "execute_result",
          "data": {
            "text/plain": [
              "4077643.108"
            ]
          },
          "metadata": {
            "tags": []
          },
          "execution_count": 43
        }
      ]
    },
    {
      "cell_type": "markdown",
      "metadata": {
        "id": "1AUmHq5FmDDD"
      },
      "source": [
        "- 이번에는 scipy의 [derivative](https://docs.scipy.org/doc/scipy/reference/generated/scipy.misc.derivative.html)를 활용하여 **derivative_two** 칼럼으로 저장하세요.\n",
        "  - dx는 1e-7로 설정합니다.\n",
        "- derivative_two 칼럼의 합을 `res3`에 저장합니다 (소수점 세자리까지)"
      ]
    },
    {
      "cell_type": "code",
      "metadata": {
        "id": "mZZ-hTKr7HNO",
        "colab": {
          "base_uri": "https://localhost:8080/",
          "height": 422
        },
        "outputId": "a6d8ff51-1450-439c-84fb-b35cab779784"
      },
      "source": [
        "df_iris"
      ],
      "execution_count": 36,
      "outputs": [
        {
          "output_type": "execute_result",
          "data": {
            "text/html": [
              "<div>\n",
              "<style scoped>\n",
              "    .dataframe tbody tr th:only-of-type {\n",
              "        vertical-align: middle;\n",
              "    }\n",
              "\n",
              "    .dataframe tbody tr th {\n",
              "        vertical-align: top;\n",
              "    }\n",
              "\n",
              "    .dataframe thead th {\n",
              "        text-align: right;\n",
              "    }\n",
              "</style>\n",
              "<table border=\"1\" class=\"dataframe\">\n",
              "  <thead>\n",
              "    <tr style=\"text-align: right;\">\n",
              "      <th></th>\n",
              "      <th>x</th>\n",
              "      <th>derivative_one</th>\n",
              "      <th>derivative_two</th>\n",
              "    </tr>\n",
              "  </thead>\n",
              "  <tbody>\n",
              "    <tr>\n",
              "      <th>0</th>\n",
              "      <td>5.1</td>\n",
              "      <td>14303.374510</td>\n",
              "      <td>14260.398502</td>\n",
              "    </tr>\n",
              "    <tr>\n",
              "      <th>1</th>\n",
              "      <td>4.9</td>\n",
              "      <td>12243.137947</td>\n",
              "      <td>12204.511186</td>\n",
              "    </tr>\n",
              "    <tr>\n",
              "      <th>2</th>\n",
              "      <td>4.7</td>\n",
              "      <td>10415.838846</td>\n",
              "      <td>10381.343873</td>\n",
              "    </tr>\n",
              "    <tr>\n",
              "      <th>3</th>\n",
              "      <td>4.6</td>\n",
              "      <td>9583.750843</td>\n",
              "      <td>9551.240219</td>\n",
              "    </tr>\n",
              "    <tr>\n",
              "      <th>4</th>\n",
              "      <td>5.0</td>\n",
              "      <td>13242.957046</td>\n",
              "      <td>13202.182863</td>\n",
              "    </tr>\n",
              "    <tr>\n",
              "      <th>...</th>\n",
              "      <td>...</td>\n",
              "      <td>...</td>\n",
              "      <td>...</td>\n",
              "    </tr>\n",
              "    <tr>\n",
              "      <th>145</th>\n",
              "      <td>6.7</td>\n",
              "      <td>41636.295671</td>\n",
              "      <td>41550.697097</td>\n",
              "    </tr>\n",
              "    <tr>\n",
              "      <th>146</th>\n",
              "      <td>6.3</td>\n",
              "      <td>32685.440606</td>\n",
              "      <td>32611.802490</td>\n",
              "    </tr>\n",
              "    <tr>\n",
              "      <th>147</th>\n",
              "      <td>6.5</td>\n",
              "      <td>36956.847407</td>\n",
              "      <td>36877.337734</td>\n",
              "    </tr>\n",
              "    <tr>\n",
              "      <th>148</th>\n",
              "      <td>6.2</td>\n",
              "      <td>30695.042753</td>\n",
              "      <td>30624.258798</td>\n",
              "    </tr>\n",
              "    <tr>\n",
              "      <th>149</th>\n",
              "      <td>5.9</td>\n",
              "      <td>25269.215390</td>\n",
              "      <td>25206.667779</td>\n",
              "    </tr>\n",
              "  </tbody>\n",
              "</table>\n",
              "<p>150 rows × 3 columns</p>\n",
              "</div>"
            ],
            "text/plain": [
              "       x  derivative_one  derivative_two\n",
              "0    5.1    14303.374510    14260.398502\n",
              "1    4.9    12243.137947    12204.511186\n",
              "2    4.7    10415.838846    10381.343873\n",
              "3    4.6     9583.750843     9551.240219\n",
              "4    5.0    13242.957046    13202.182863\n",
              "..   ...             ...             ...\n",
              "145  6.7    41636.295671    41550.697097\n",
              "146  6.3    32685.440606    32611.802490\n",
              "147  6.5    36956.847407    36877.337734\n",
              "148  6.2    30695.042753    30624.258798\n",
              "149  5.9    25269.215390    25206.667779\n",
              "\n",
              "[150 rows x 3 columns]"
            ]
          },
          "metadata": {
            "tags": []
          },
          "execution_count": 36
        }
      ]
    },
    {
      "cell_type": "code",
      "metadata": {
        "id": "F2SryUCCmDDE"
      },
      "source": [
        "# 이곳에 답안을 작성해주시기 바랍니다\n",
        "def f(x):\n",
        "    return 4*(x**5) + 9*(x**3) + np.exp(1)*(x**2) - 7\n",
        "\n",
        "from scipy.misc import derivative\n",
        "a = []\n",
        "for i in range(len(df_iris['x'])):\n",
        "    a.append( derivative(f, df_iris['x'][i], dx=1e-7) )\n",
        "# len(a)\n",
        "\n",
        "df_iris['derivative_two'] = a"
      ],
      "execution_count": 8,
      "outputs": []
    },
    {
      "cell_type": "code",
      "metadata": {
        "id": "AnG_XjYZ61sa",
        "colab": {
          "base_uri": "https://localhost:8080/"
        },
        "outputId": "e330807d-c04a-49dc-8d97-837aad6161fb"
      },
      "source": [
        "res3 = round( df_iris['derivative_two'].sum(), 3)\n",
        "res3"
      ],
      "execution_count": 44,
      "outputs": [
        {
          "output_type": "execute_result",
          "data": {
            "text/plain": [
              "4077643.121"
            ]
          },
          "metadata": {
            "tags": []
          },
          "execution_count": 44
        }
      ]
    },
    {
      "cell_type": "markdown",
      "metadata": {
        "id": "U9KQrjt3I66h"
      },
      "source": [
        "## 4. 미분 연습\n",
        ">아래의 함수들을 미분한 후에 **x = 5**일 때의 결과값을 `res4`, `res5`, `res6`, `res7`에 저장하세요. "
      ]
    },
    {
      "cell_type": "markdown",
      "metadata": {
        "id": "3MahA4KKmDDF"
      },
      "source": [
        " $f(x) = e^x$ "
      ]
    },
    {
      "cell_type": "code",
      "metadata": {
        "id": "Qe3zauGomDDG",
        "colab": {
          "base_uri": "https://localhost:8080/"
        },
        "outputId": "57f4e7e3-71cb-4815-c7b5-b3d921edde98"
      },
      "source": [
        "def e_prime(x):\n",
        "    return np.exp(x)  # 이 곳에 답안을 작성하세요\n",
        "\n",
        "res4 = e_prime(5)\n",
        "res4"
      ],
      "execution_count": 10,
      "outputs": [
        {
          "output_type": "execute_result",
          "data": {
            "text/plain": [
              "148.4131591025766"
            ]
          },
          "metadata": {
            "tags": []
          },
          "execution_count": 10
        }
      ]
    },
    {
      "cell_type": "markdown",
      "metadata": {
        "id": "Fp46RwEZmDDG"
      },
      "source": [
        "$f(x) = lnx$"
      ]
    },
    {
      "cell_type": "code",
      "metadata": {
        "id": "Hn1LQqi4mDDH",
        "colab": {
          "base_uri": "https://localhost:8080/"
        },
        "outputId": "ad5f9822-5a75-4e85-92ab-f9ad28d88c1a"
      },
      "source": [
        "def ln_prime(x):\n",
        "    return 1/x  # 이 곳에 답안을 작성하세요\n",
        "res5 = ln_prime(5)\n",
        "round( res5, 3)"
      ],
      "execution_count": 11,
      "outputs": [
        {
          "output_type": "execute_result",
          "data": {
            "text/plain": [
              "0.2"
            ]
          },
          "metadata": {
            "tags": []
          },
          "execution_count": 11
        }
      ]
    },
    {
      "cell_type": "markdown",
      "metadata": {
        "id": "BDUipkUKmDDH"
      },
      "source": [
        "$f(x) = Sin(2x)$"
      ]
    },
    {
      "cell_type": "code",
      "metadata": {
        "id": "PDMYHjZ1mDDI",
        "colab": {
          "base_uri": "https://localhost:8080/"
        },
        "outputId": "b8cc47ae-c222-44b9-e64c-102d716596bf"
      },
      "source": [
        "def sine_prime(x):\n",
        "    return 2*np.cos(2*x)  # 이 곳에 답안을 작성하세요\n",
        "res6 = sine_prime(5)\n",
        "# res6 = sine_prime(2)\n",
        "\n",
        "round(res6, 3)\n",
        "# https://www.mathway.com/ko/popular-problems/Calculus/976813"
      ],
      "execution_count": 34,
      "outputs": [
        {
          "output_type": "execute_result",
          "data": {
            "text/plain": [
              "-1.678"
            ]
          },
          "metadata": {
            "tags": []
          },
          "execution_count": 34
        }
      ]
    },
    {
      "cell_type": "markdown",
      "metadata": {
        "id": "LX2awpFmmDDI"
      },
      "source": [
        "$f(x) = (2x^2 + 8x)^2$"
      ]
    },
    {
      "cell_type": "code",
      "metadata": {
        "id": "nlhlJZhImDDI",
        "colab": {
          "base_uri": "https://localhost:8080/"
        },
        "outputId": "17b5e493-37f6-4fb2-f98f-e1a1312a6886"
      },
      "source": [
        "def f_prime(x):\n",
        "    return 2*(2*x**2 + 8*x ) * (4*x + 8 )\n",
        "res7 = f_prime(5)\n",
        "# res7 = f_prime(4)\n",
        "\n",
        "round(res7, 3)"
      ],
      "execution_count": 47,
      "outputs": [
        {
          "output_type": "execute_result",
          "data": {
            "text/plain": [
              "5040"
            ]
          },
          "metadata": {
            "tags": []
          },
          "execution_count": 47
        }
      ]
    },
    {
      "cell_type": "markdown",
      "metadata": {
        "id": "yKehJVDsJQNg"
      },
      "source": [
        "## 3. 편미분\n",
        "\n",
        "주어진 `machine learning model`의 `error function` ($\\varepsilon$)이 다음과 같을 때 `error function`을 **최소화** 하는 최적의 `parameter`들을  구하세요. 그 후 결과를 각각 `p1`, `p2`에 저장하세요.\n",
        "\n",
        "$\\varepsilon(p_1, p_2) = (e \\cdot p_1 - p_2)^2 + {{k_2} \\over { 2 }} \\cdot p_2 $ \n",
        "\n",
        "$k_2 == 100$\n",
        "\n",
        "- 단 최적의 $p_1$은 $p_2$가 $3$일때, 최적의 $p_2$는 $p_1$이 $10$일때를 기준으로 합니다."
      ]
    },
    {
      "cell_type": "code",
      "metadata": {
        "id": "TlA7rqlnK2V8"
      },
      "source": [
        "# 이 곳에 답안을 작성하세요\n",
        "k2 = 100\n",
        "def f1(p1, p2):\n",
        "    return (np.exp(1)*p1 - p2)**2 + k2/2*p2"
      ],
      "execution_count": 14,
      "outputs": []
    },
    {
      "cell_type": "code",
      "metadata": {
        "id": "Lh0gVGaR_Gyz"
      },
      "source": [
        "# 미분 함수 정의하기\n",
        "from math import e\n",
        "\n",
        "# p1에대한 편미분\n",
        "def f1_p1(p1, p2=3):\n",
        "    return 2*(np.exp(1)*p1 - p2)*np.exp(1)\n",
        "\n",
        "# p2\n",
        "def f1_p2(p1=10, p2):\n",
        "    return 2*(e*p1 - p2)*(-1) + k2/2\n",
        "\n",
        "\n",
        "# 최적화-경사하강법\n",
        "def gradient_descent(X, y, lr = 0.05, epoch = 10):\n",
        "    \n",
        "    p1, p2 = 10, 3 # 임의 선택한 파라미터 p1, p2\n",
        "\n",
        "    N = len(X) # 샘플 갯수\n"
      ],
      "execution_count": 27,
      "outputs": []
    },
    {
      "cell_type": "code",
      "metadata": {
        "id": "bs0cErBnGao5"
      },
      "source": [
        "def gradient_descent(X, y, lr = 0.05, epoch = 10):\n",
        "    \n",
        "    a, b = 0.33, 0.48 # 임의 선택한 파라미터 a, b\n",
        "    N = len(X) # 샘플 갯수\n",
        "    \n",
        "    for _ in range(epoch):            \n",
        "        f = y - (a*X + b)\n",
        "    \n",
        "        # a와 b를 업데이트 합니다\n",
        "        a -= lr * (-2 * X.dot(f).sum() / N)\n",
        "        b -= lr * (-2 * f.sum() / N)        \n",
        "        \n",
        "    print('a: '+str(a))\n",
        "    print('b: '+str(b))"
      ],
      "execution_count": 28,
      "outputs": []
    },
    {
      "cell_type": "code",
      "metadata": {
        "id": "Dn-QrWXnGcX7"
      },
      "source": [
        "\n",
        "X = np.array([1, 2, 3, 4, 5])\n",
        "y = np.array([8, 11, 14, 17, 20])"
      ],
      "execution_count": 29,
      "outputs": []
    },
    {
      "cell_type": "code",
      "metadata": {
        "colab": {
          "base_uri": "https://localhost:8080/"
        },
        "id": "k-5Bghn0GjpO",
        "outputId": "c678834b-2c3f-493a-a873-91d89bb81065"
      },
      "source": [
        "gradient_descent(X,y)  # 10번만 돌렸을 때"
      ],
      "execution_count": 30,
      "outputs": [
        {
          "output_type": "stream",
          "text": [
            "a: 3.8200706153280004\n",
            "b: 2.039284272128\n"
          ],
          "name": "stdout"
        }
      ]
    },
    {
      "cell_type": "code",
      "metadata": {
        "colab": {
          "base_uri": "https://localhost:8080/"
        },
        "id": "6rZ0KuSoGnPl",
        "outputId": "14c58d01-489d-408e-a64f-a99edbb4db38"
      },
      "source": [
        "gradient_descent(X,y, epoch=1000)  # 10번만 돌렸을 때\n"
      ],
      "execution_count": 31,
      "outputs": [
        {
          "output_type": "stream",
          "text": [
            "a: 3.000000038323629\n",
            "b: 4.999999861639539\n"
          ],
          "name": "stdout"
        }
      ]
    },
    {
      "cell_type": "code",
      "metadata": {
        "id": "yvc0euHF_HGi"
      },
      "source": [
        "# import matplotlib.pyplot as plt\n",
        "# f1.plot()"
      ],
      "execution_count": 15,
      "outputs": []
    },
    {
      "cell_type": "markdown",
      "metadata": {
        "id": "ZTC_sDkNK87q"
      },
      "source": [
        "## Grading\n",
        "\n",
        "이전 과제를 완료했다면, 아래의 코드를 실행하세요. "
      ]
    },
    {
      "cell_type": "code",
      "metadata": {
        "id": "MiRrKvLNK_Mc"
      },
      "source": [
        "# def grade(res1, res2, res3, res4, res5, p1, p2):\n",
        "#     score = 0\n",
        "\n",
        "#     score += (res1 == 30.0)\n",
        "#     score += (res2 == 4073693.444)\n",
        "#     score += (res3 == 4077643.120)\n",
        "#     score += (round(res4, 3) == 148.413)\n",
        "#     score += (round(res5, 1) == 0.2)\n",
        "#     score += (round(res6, 3) == -1.678)\n",
        "#     score += (res7 == 2320)\n",
        "    \n",
        "#     score += (p1 == 3/exp(1))\n",
        "#     score += (p2 == 10*exp(1)-25)\n",
        "  \n",
        "#     return(score)"
      ],
      "execution_count": 20,
      "outputs": []
    },
    {
      "cell_type": "code",
      "metadata": {
        "id": "8cAaUKgAELQo"
      },
      "source": [
        "def grade(res1, res2, res3, res4, res5,res6,res7, p1, p2):\n",
        "    score = 0\n",
        "\n",
        "    score += (res1 == 30.0)\n",
        "    score += (res2 == 4077643.108)\n",
        "    score += (res3 == 4077643.121)\n",
        "    score += (round(res4, 3) == 148.413)\n",
        "    score += (round(res5, 1) == 0.2)\n",
        "    score += (round(res6, 3) == -1.678)\n",
        "    score += (res7 == 5040)\n",
        "    \n",
        "    score += (p1 == 3/exp(1))\n",
        "    score += (p2 == 10*exp(1)-25)\n",
        "  \n",
        "    return(score)"
      ],
      "execution_count": 45,
      "outputs": []
    },
    {
      "cell_type": "code",
      "metadata": {
        "colab": {
          "base_uri": "https://localhost:8080/"
        },
        "id": "Xkr0c3-QEEHV",
        "outputId": "db2a69b4-5588-42b2-8cb3-1ce58e427f5b"
      },
      "source": [
        " grade(res1, res2, res3, res4, res5,res6,res7, p1=0, p2=0)"
      ],
      "execution_count": 48,
      "outputs": [
        {
          "output_type": "execute_result",
          "data": {
            "text/plain": [
              "7"
            ]
          },
          "metadata": {
            "tags": []
          },
          "execution_count": 48
        }
      ]
    },
    {
      "cell_type": "markdown",
      "metadata": {
        "id": "ksW7uwOzL-eY"
      },
      "source": [
        "## 🔥 도전과제 "
      ]
    },
    {
      "cell_type": "markdown",
      "metadata": {
        "id": "MltjgTsvMZmv"
      },
      "source": [
        "### 다음 함수를 미분하세요. 이후에 x = 3일 때의 결과를 `challenge`에 저장하세요.  \n",
        "$\\sigma(x) = {{1} \\over {1 + e^-x}}$. "
      ]
    },
    {
      "cell_type": "code",
      "metadata": {
        "id": "fnES_-OnmDDM",
        "colab": {
          "base_uri": "https://localhost:8080/"
        },
        "outputId": "9c1f062b-640e-4cf8-9d35-61aaf9934e98"
      },
      "source": [
        "def sig_prime(x):\n",
        "    return -( (1+np.exp(-x))**(-2) )*np.exp(-x)\n",
        "    #1 / (1 + np.exp(-x)) # 이곳에 답안을 작성하세요.\n",
        "\n",
        "challenge = sig_prime(3)\n",
        "challenge"
      ],
      "execution_count": 17,
      "outputs": [
        {
          "output_type": "execute_result",
          "data": {
            "text/plain": [
              "-0.045176659730912144"
            ]
          },
          "metadata": {
            "tags": []
          },
          "execution_count": 17
        }
      ]
    },
    {
      "cell_type": "code",
      "metadata": {
        "id": "SfRbIVZVA9Km"
      },
      "source": [
        ""
      ],
      "execution_count": 17,
      "outputs": []
    }
  ]
}