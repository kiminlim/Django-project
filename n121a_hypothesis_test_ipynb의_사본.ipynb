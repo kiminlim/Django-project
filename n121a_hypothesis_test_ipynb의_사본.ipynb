{
  "nbformat": 4,
  "nbformat_minor": 0,
  "metadata": {
    "colab": {
      "name": "n121a-hypothesis-test.ipynb의 사본",
      "provenance": [],
      "collapsed_sections": []
    },
    "kernelspec": {
      "display_name": "Python 3",
      "language": "python",
      "name": "python3"
    },
    "language_info": {
      "codemirror_mode": {
        "name": "ipython",
        "version": 3
      },
      "file_extension": ".py",
      "mimetype": "text/x-python",
      "name": "python",
      "nbconvert_exporter": "python",
      "pygments_lexer": "ipython3",
      "version": "3.8.2"
    }
  },
  "cells": [
    {
      "cell_type": "markdown",
      "metadata": {
        "id": "Sa5KWMO1ngPN"
      },
      "source": [
        "<img src='https://i.imgur.com/RDAD11M.png' width = '200' align = 'right'>\n",
        "\n",
        "## *DATA SCIENCE / SECTION 1 / SPRINT 2 / NOTE 1*\n",
        "\n",
        "# 📝 Assignment"
      ]
    },
    {
      "cell_type": "markdown",
      "metadata": {
        "id": "0nGnNtZxopQc"
      },
      "source": [
        "# 가설 검정"
      ]
    },
    {
      "cell_type": "markdown",
      "metadata": {
        "id": "gZDO3KBZOJNp"
      },
      "source": [
        "## 1. One-Sample T-test 연습"
      ]
    },
    {
      "cell_type": "markdown",
      "metadata": {
        "id": "CdRkOn9X5BdF"
      },
      "source": [
        "### 데이터 불러오기\n",
        "- [서울시 가로수 데이터셋](https://data.seoul.go.kr/dataList/367/S/2/datasetView.do)을 사용합니다.\n",
        "\n",
        "다음 링크를 참조하세요. \n",
        "<https://ds-lecture-data.s3.ap-northeast-2.amazonaws.com/seoul_tree/seoul_tree.txt>\n"
      ]
    },
    {
      "cell_type": "code",
      "metadata": {
        "id": "bd5YFp7Xvu8P",
        "colab": {
          "base_uri": "https://localhost:8080/"
        },
        "outputId": "227c321b-43f8-4897-ac16-91761a1fc8bb"
      },
      "source": [
        "# 이 곳에 답안을 작성하시기 바랍니다.\n",
        "\n",
        "import pandas as pd\n",
        "\n",
        "trees = pd.read_csv('https://ds-lecture-data.s3.ap-northeast-2.amazonaws.com/seoul_tree/seoul_tree.txt',  sep = '\\t', skiprows = 1)\n",
        "trees = trees.replace({'-':0})\n",
        "\n",
        "print(trees.head())\n",
        "print(trees.shape) # (28, 24)"
      ],
      "execution_count": 107,
      "outputs": [
        {
          "output_type": "stream",
          "text": [
            "     기간  자치구    노선수       수량     은행나무  ...    무궁화    소나무   목련    이팝나무      기타\n",
            "0  2019  서울시  1,412  307,351  108,050  ...  2,374  4,539  378  20,088  20,112\n",
            "1  2019  종로구     70    7,329    4,072  ...      0    239    0     711      29\n",
            "2  2019   중구     48    8,250    3,640  ...     46  2,162    0     470     817\n",
            "3  2019  용산구     39    7,835    4,444  ...      0     51  126     198     780\n",
            "4  2019  성동구     38    8,120    1,090  ...      0     53    0     709     646\n",
            "\n",
            "[5 rows x 24 columns]\n",
            "(28, 24)\n"
          ],
          "name": "stdout"
        }
      ]
    },
    {
      "cell_type": "markdown",
      "metadata": {
        "id": "oxsx9cN7dUPp"
      },
      "source": [
        "### \"서울시에는 구별로 평균 약 400 그루 정도의 `이팝나무`가 있다\"라는 가설에 대해 가설검정을 시행하세요.\n",
        "\n",
        "- 단, `서울시`, `공원녹지사업소`, `시설관리공단` 부분의 데이터는 제외합니다.\n",
        "- 가설검정 결과의 pvalue 값을 `pv1`에 저장하세요. (`.pvalue` 사용)"
      ]
    },
    {
      "cell_type": "code",
      "metadata": {
        "id": "nfucb5GYpn1D",
        "colab": {
          "base_uri": "https://localhost:8080/"
        },
        "outputId": "f749bbc7-2e1c-417b-df83-2f53c4fc6aa5"
      },
      "source": [
        "# 이 곳에 답안을 작성하시기 바랍니다\n",
        "\n",
        "trees['이팝나무'] = pd.to_numeric(trees['이팝나무'].str.replace(',','')) \n",
        "trees['이팝나무'].head()"
      ],
      "execution_count": 108,
      "outputs": [
        {
          "output_type": "execute_result",
          "data": {
            "text/plain": [
              "0    20088\n",
              "1      711\n",
              "2      470\n",
              "3      198\n",
              "4      709\n",
              "Name: 이팝나무, dtype: int64"
            ]
          },
          "metadata": {
            "tags": []
          },
          "execution_count": 108
        }
      ]
    },
    {
      "cell_type": "code",
      "metadata": {
        "id": "GVrjyNFjcy4w",
        "colab": {
          "base_uri": "https://localhost:8080/"
        },
        "outputId": "9b95ef48-129b-4f08-9274-65e13b67e858"
      },
      "source": [
        "trees[ (trees['자치구'] == '서울시') | (trees['자치구'] == '공원녹지사업소') | (trees['자치구'] == '시설관리공단') ].index "
      ],
      "execution_count": 109,
      "outputs": [
        {
          "output_type": "execute_result",
          "data": {
            "text/plain": [
              "Int64Index([0, 26, 27], dtype='int64')"
            ]
          },
          "metadata": {
            "tags": []
          },
          "execution_count": 109
        }
      ]
    },
    {
      "cell_type": "code",
      "metadata": {
        "id": "Bl_Ix6_wcytE",
        "colab": {
          "base_uri": "https://localhost:8080/"
        },
        "outputId": "e87fd30f-0d53-463b-b5f6-80ce747c83a0"
      },
      "source": [
        "idx = trees[ (trees['자치구'] == '서울시') | (trees['자치구'] == '공원녹지사업소') | (trees['자치구'] == '시설관리공단') ].index \n",
        "trees = trees.drop(idx)\n",
        "trees.shape"
      ],
      "execution_count": 110,
      "outputs": [
        {
          "output_type": "execute_result",
          "data": {
            "text/plain": [
              "(25, 24)"
            ]
          },
          "metadata": {
            "tags": []
          },
          "execution_count": 110
        }
      ]
    },
    {
      "cell_type": "code",
      "metadata": {
        "id": "u1Bauohsf3fE",
        "colab": {
          "base_uri": "https://localhost:8080/"
        },
        "outputId": "449d5cd5-edce-4c38-946c-cf8095cf8170"
      },
      "source": [
        "trees['이팝나무'].describe()"
      ],
      "execution_count": 111,
      "outputs": [
        {
          "output_type": "execute_result",
          "data": {
            "text/plain": [
              "count      25.00000\n",
              "mean      688.64000\n",
              "std       426.86599\n",
              "min        47.00000\n",
              "25%       443.00000\n",
              "50%       642.00000\n",
              "75%       853.00000\n",
              "max      1651.00000\n",
              "Name: 이팝나무, dtype: float64"
            ]
          },
          "metadata": {
            "tags": []
          },
          "execution_count": 111
        }
      ]
    },
    {
      "cell_type": "code",
      "metadata": {
        "id": "yXk8GSPfeTRs",
        "colab": {
          "base_uri": "https://localhost:8080/"
        },
        "outputId": "e162d258-00b0-4408-bf9a-1c3aa15c892d"
      },
      "source": [
        "# 가설 검정 #*\n",
        "from scipy import stats\n",
        "result = stats.ttest_1samp(trees['이팝나무'], 400)   # 데이터, 비교하려는 값\n",
        "\n",
        "print('t검정 통계량 = %.3f, pvalue = %.3f'%(result)) "
      ],
      "execution_count": 112,
      "outputs": [
        {
          "output_type": "stream",
          "text": [
            "t검정 통계량 = 3.381, pvalue = 0.002\n"
          ],
          "name": "stdout"
        }
      ]
    },
    {
      "cell_type": "markdown",
      "metadata": {
        "id": "i8aUQ94JgFLc"
      },
      "source": [
        "* 귀무가설 : m = 400 ( 이팝나무의 서울시 구별 평균 나무 수는 400그루이다. )\n",
        "* 대립가설 : m =! 400 ( 이팝나무의 서울시 구별 평균 나무 수가 400그루가 아니다. )\n",
        "\n",
        "pvalue = 0.002 < 0.05 이므로 유의수준 5%에서 귀무가설 기각, 이는 서울시 구별 이팝나무의 평균 나무 수는 400그루가 아니라는 강한 증거가 된다. )\n"
      ]
    },
    {
      "cell_type": "code",
      "metadata": {
        "colab": {
          "base_uri": "https://localhost:8080/"
        },
        "id": "N8eXWWrz5xsG",
        "outputId": "bc7afec2-b526-4283-987b-b62ce4879e69"
      },
      "source": [
        "# t값\n",
        "( 688.64 - 400 ) / ( 426.866 / 5 )\n",
        "# 자유도가 24인 t분포에서 검정통계량인 3.38은 0.002의 유의확률을 가진다."
      ],
      "execution_count": 133,
      "outputs": [
        {
          "output_type": "execute_result",
          "data": {
            "text/plain": [
              "3.3809204762150182"
            ]
          },
          "metadata": {
            "tags": []
          },
          "execution_count": 133
        }
      ]
    },
    {
      "cell_type": "code",
      "metadata": {
        "colab": {
          "base_uri": "https://localhost:8080/"
        },
        "id": "smxJN4bfi5QR",
        "outputId": "a80b789f-b921-45a2-96fc-1125f4d0f137"
      },
      "source": [
        "pv1 = result.pvalue\n",
        "pv1"
      ],
      "execution_count": 113,
      "outputs": [
        {
          "output_type": "execute_result",
          "data": {
            "text/plain": [
              "0.002470712850935819"
            ]
          },
          "metadata": {
            "tags": []
          },
          "execution_count": 113
        }
      ]
    },
    {
      "cell_type": "code",
      "metadata": {
        "id": "iJVlnDzccypq"
      },
      "source": [
        "# trees.iloc[24,:]"
      ],
      "execution_count": 114,
      "outputs": []
    },
    {
      "cell_type": "markdown",
      "metadata": {
        "id": "yAkyHaEnbNYa"
      },
      "source": [
        "### 이번에는 10개의 구를 샘플링하여, 위에 대한 가설검정을 다시 한번 시행해보세요.\n",
        "\n",
        "- 단, 아래의 코드를 참조하여 sample을 위한 seed 는 123로 설정하세요.\n",
        "- 가설검정 결과의 pvalue값을 `pv2`에 저장하세요\n"
      ]
    },
    {
      "cell_type": "code",
      "metadata": {
        "id": "DbQPGNNLq_AN",
        "colab": {
          "base_uri": "https://localhost:8080/"
        },
        "outputId": "a5322811-153a-48a5-8c4e-f4cbd63ca0fe"
      },
      "source": [
        "import numpy as np\n",
        "np.random.seed(123)\n",
        " \n",
        "idx = np.random.choice(24, size = 10, replace=False)  # \"~\"와 \" \"을 적절한 값으로 채우시면 됩니다\n",
        "idx"
      ],
      "execution_count": 115,
      "outputs": [
        {
          "output_type": "execute_result",
          "data": {
            "text/plain": [
              "array([ 5, 20, 21, 18, 15,  8,  7, 11,  4,  3])"
            ]
          },
          "metadata": {
            "tags": []
          },
          "execution_count": 115
        }
      ]
    },
    {
      "cell_type": "code",
      "metadata": {
        "colab": {
          "base_uri": "https://localhost:8080/"
        },
        "id": "NxmNDj1Ujc7Y",
        "outputId": "98f53feb-fdd1-4c96-bfce-0d473c19b522"
      },
      "source": [
        "trees_10 = trees.iloc[idx,:]\n",
        "\n",
        "result = stats.ttest_1samp(trees_10['이팝나무'], 400)   # 데이터, 비교하려는 값\n",
        "\n",
        "print('t검정 통계량 = %.3f, pvalue = %.3f'%(result)) # < 0.05 이므로 귀무가설 기각, 이팝나무의 서울시 자치구별 평균 나무 수가 400그루라는 가설은 유의수준 5%에서  유의하지 않다. "
      ],
      "execution_count": 116,
      "outputs": [
        {
          "output_type": "stream",
          "text": [
            "t검정 통계량 = 3.160, pvalue = 0.012\n"
          ],
          "name": "stdout"
        }
      ]
    },
    {
      "cell_type": "markdown",
      "metadata": {
        "id": "HjeOjv4ez6RP"
      },
      "source": [
        "* 귀무가설 : m = 400 ( 이팝나무의 서울시 구별 평균 나무 수는 400그루이다. )\n",
        "* 대립가설 : m =! 400 ( 이팝나무의 서울시 구별 평균 나무 수가 400그루가 아니다. )\n",
        "\n",
        "pvalue = 0.012 < 0.05 이므로 유의수준 5%에서 귀무가설 기각, 이는 서울시 구별 이팝나무의 평균 나무 수는 400그루가 아니라는 강한 증거가 된다. )"
      ]
    },
    {
      "cell_type": "code",
      "metadata": {
        "colab": {
          "base_uri": "https://localhost:8080/",
          "height": 298
        },
        "id": "9uS7m1cu6ecP",
        "outputId": "71740533-2ff4-4eba-966d-37e477b5e5c8"
      },
      "source": [
        "trees_10.describe()"
      ],
      "execution_count": 134,
      "outputs": [
        {
          "output_type": "execute_result",
          "data": {
            "text/html": [
              "<div>\n",
              "<style scoped>\n",
              "    .dataframe tbody tr th:only-of-type {\n",
              "        vertical-align: middle;\n",
              "    }\n",
              "\n",
              "    .dataframe tbody tr th {\n",
              "        vertical-align: top;\n",
              "    }\n",
              "\n",
              "    .dataframe thead th {\n",
              "        text-align: right;\n",
              "    }\n",
              "</style>\n",
              "<table border=\"1\" class=\"dataframe\">\n",
              "  <thead>\n",
              "    <tr style=\"text-align: right;\">\n",
              "      <th></th>\n",
              "      <th>기간</th>\n",
              "      <th>이팝나무</th>\n",
              "    </tr>\n",
              "  </thead>\n",
              "  <tbody>\n",
              "    <tr>\n",
              "      <th>count</th>\n",
              "      <td>10.0</td>\n",
              "      <td>10.000000</td>\n",
              "    </tr>\n",
              "    <tr>\n",
              "      <th>mean</th>\n",
              "      <td>2019.0</td>\n",
              "      <td>791.800000</td>\n",
              "    </tr>\n",
              "    <tr>\n",
              "      <th>std</th>\n",
              "      <td>0.0</td>\n",
              "      <td>392.091486</td>\n",
              "    </tr>\n",
              "    <tr>\n",
              "      <th>min</th>\n",
              "      <td>2019.0</td>\n",
              "      <td>249.000000</td>\n",
              "    </tr>\n",
              "    <tr>\n",
              "      <th>25%</th>\n",
              "      <td>2019.0</td>\n",
              "      <td>478.250000</td>\n",
              "    </tr>\n",
              "    <tr>\n",
              "      <th>50%</th>\n",
              "      <td>2019.0</td>\n",
              "      <td>734.500000</td>\n",
              "    </tr>\n",
              "    <tr>\n",
              "      <th>75%</th>\n",
              "      <td>2019.0</td>\n",
              "      <td>1095.250000</td>\n",
              "    </tr>\n",
              "    <tr>\n",
              "      <th>max</th>\n",
              "      <td>2019.0</td>\n",
              "      <td>1426.000000</td>\n",
              "    </tr>\n",
              "  </tbody>\n",
              "</table>\n",
              "</div>"
            ],
            "text/plain": [
              "           기간         이팝나무\n",
              "count    10.0    10.000000\n",
              "mean   2019.0   791.800000\n",
              "std       0.0   392.091486\n",
              "min    2019.0   249.000000\n",
              "25%    2019.0   478.250000\n",
              "50%    2019.0   734.500000\n",
              "75%    2019.0  1095.250000\n",
              "max    2019.0  1426.000000"
            ]
          },
          "metadata": {
            "tags": []
          },
          "execution_count": 134
        }
      ]
    },
    {
      "cell_type": "code",
      "metadata": {
        "colab": {
          "base_uri": "https://localhost:8080/"
        },
        "id": "eXjiJJEr6hSX",
        "outputId": "e1d9c592-e637-48d2-a7dd-c826b57912c1"
      },
      "source": [
        "import numpy as np\n",
        "\n",
        "(791.8 - 400) / (392.0915 / np.sqrt(10)) # t값이 3.16과 비슷함을 확인. 자유도가 9인 t분포에서 3.16의 검정통계량은 0.012의 피벨류를 가진다. < 0.05 -> 귀무가설 기각. "
      ],
      "execution_count": 136,
      "outputs": [
        {
          "output_type": "execute_result",
          "data": {
            "text/plain": [
              "3.1599266682750606"
            ]
          },
          "metadata": {
            "tags": []
          },
          "execution_count": 136
        }
      ]
    },
    {
      "cell_type": "code",
      "metadata": {
        "colab": {
          "base_uri": "https://localhost:8080/"
        },
        "id": "HUHEpYePkVnF",
        "outputId": "651001c2-8e3c-491d-c128-ba07bd51ac60"
      },
      "source": [
        "pv2 = result.pvalue\n",
        "pv2"
      ],
      "execution_count": 117,
      "outputs": [
        {
          "output_type": "execute_result",
          "data": {
            "text/plain": [
              "0.01155157903647694"
            ]
          },
          "metadata": {
            "tags": []
          },
          "execution_count": 117
        }
      ]
    },
    {
      "cell_type": "markdown",
      "metadata": {
        "id": "TPT-ZTt0PuIk"
      },
      "source": [
        "## 2. Two-Sample T-test 연습"
      ]
    },
    {
      "cell_type": "markdown",
      "metadata": {
        "id": "2WZnCBsR_2jT"
      },
      "source": [
        "### \"서울시의 구별 평균 느티나무수와 왕벚나무의 수는 차이가 없다\"라는 가설에 대해 가설검정을 시행하세요.\n",
        "\n",
        "- 단, `서울시`, `공원녹지사업소`, `시설관리공단` 부분의 데이터는 제외합니다.\n",
        "- 가설검정 결과의 pvalue를 `pv3`에 저장하세요"
      ]
    },
    {
      "cell_type": "code",
      "metadata": {
        "id": "bPoJ2YBdmXj2"
      },
      "source": [
        "trees['느티나무'] = pd.to_numeric(trees['느티나무'].str.replace(',','')) \n",
        "trees['왕벚나무'] = pd.to_numeric(trees['왕벚나무'].str.replace(',','')) \n"
      ],
      "execution_count": 118,
      "outputs": []
    },
    {
      "cell_type": "code",
      "metadata": {
        "colab": {
          "base_uri": "https://localhost:8080/",
          "height": 298
        },
        "id": "0QEgk066mkmQ",
        "outputId": "e7c2f7fc-46fc-4f85-bfd3-9af87a09fe1b"
      },
      "source": [
        "# t = pd.Dataframe( trees['느티나무'], trees['왕벚나무'] )\n",
        "trees.loc[:, ( ['느티나무', '왕벚나무'] ) ].describe()\n",
        "\n"
      ],
      "execution_count": 137,
      "outputs": [
        {
          "output_type": "execute_result",
          "data": {
            "text/html": [
              "<div>\n",
              "<style scoped>\n",
              "    .dataframe tbody tr th:only-of-type {\n",
              "        vertical-align: middle;\n",
              "    }\n",
              "\n",
              "    .dataframe tbody tr th {\n",
              "        vertical-align: top;\n",
              "    }\n",
              "\n",
              "    .dataframe thead th {\n",
              "        text-align: right;\n",
              "    }\n",
              "</style>\n",
              "<table border=\"1\" class=\"dataframe\">\n",
              "  <thead>\n",
              "    <tr style=\"text-align: right;\">\n",
              "      <th></th>\n",
              "      <th>느티나무</th>\n",
              "      <th>왕벚나무</th>\n",
              "    </tr>\n",
              "  </thead>\n",
              "  <tbody>\n",
              "    <tr>\n",
              "      <th>count</th>\n",
              "      <td>25.000000</td>\n",
              "      <td>25.000000</td>\n",
              "    </tr>\n",
              "    <tr>\n",
              "      <th>mean</th>\n",
              "      <td>1415.120000</td>\n",
              "      <td>1292.000000</td>\n",
              "    </tr>\n",
              "    <tr>\n",
              "      <th>std</th>\n",
              "      <td>1036.783862</td>\n",
              "      <td>832.740106</td>\n",
              "    </tr>\n",
              "    <tr>\n",
              "      <th>min</th>\n",
              "      <td>185.000000</td>\n",
              "      <td>254.000000</td>\n",
              "    </tr>\n",
              "    <tr>\n",
              "      <th>25%</th>\n",
              "      <td>619.000000</td>\n",
              "      <td>602.000000</td>\n",
              "    </tr>\n",
              "    <tr>\n",
              "      <th>50%</th>\n",
              "      <td>1057.000000</td>\n",
              "      <td>1096.000000</td>\n",
              "    </tr>\n",
              "    <tr>\n",
              "      <th>75%</th>\n",
              "      <td>2231.000000</td>\n",
              "      <td>2095.000000</td>\n",
              "    </tr>\n",
              "    <tr>\n",
              "      <th>max</th>\n",
              "      <td>3419.000000</td>\n",
              "      <td>2952.000000</td>\n",
              "    </tr>\n",
              "  </tbody>\n",
              "</table>\n",
              "</div>"
            ],
            "text/plain": [
              "              느티나무         왕벚나무\n",
              "count    25.000000    25.000000\n",
              "mean   1415.120000  1292.000000\n",
              "std    1036.783862   832.740106\n",
              "min     185.000000   254.000000\n",
              "25%     619.000000   602.000000\n",
              "50%    1057.000000  1096.000000\n",
              "75%    2231.000000  2095.000000\n",
              "max    3419.000000  2952.000000"
            ]
          },
          "metadata": {
            "tags": []
          },
          "execution_count": 137
        }
      ]
    },
    {
      "cell_type": "code",
      "metadata": {
        "colab": {
          "base_uri": "https://localhost:8080/"
        },
        "id": "5VeYouzL7qhu",
        "outputId": "a47250ff-f6a7-4517-974f-2600d25c0d1f"
      },
      "source": [
        "# 복수표본 t분포 \n",
        "(1415.12-1292 ) / np.sqrt(    (1036.783862**2 / 25) + (832.740106**2 / 25) )\n",
        "# t값이 같음을 확인.    "
      ],
      "execution_count": 139,
      "outputs": [
        {
          "output_type": "execute_result",
          "data": {
            "text/plain": [
              "0.46292560136489425"
            ]
          },
          "metadata": {
            "tags": []
          },
          "execution_count": 139
        }
      ]
    },
    {
      "cell_type": "code",
      "metadata": {
        "id": "lAs832N1tc7k",
        "colab": {
          "base_uri": "https://localhost:8080/"
        },
        "outputId": "d71b30f0-0071-4eb1-951d-ce50496042d0"
      },
      "source": [
        "# 이 곳에 답안을 작성하시기 바랍니다\n",
        "\n",
        "result = stats.ttest_ind(trees['느티나무'], trees['왕벚나무'])\n",
        "print('t검정 통계량 = %.3f, pvalue = %.3f'%(result))\n",
        "# 귀무가설 채택. 즉, 유의수준 5%에서 서울시 자치구별 느티나무와 왕벚나무의 평균 수는 차이가 유의마하게 없다."
      ],
      "execution_count": 120,
      "outputs": [
        {
          "output_type": "stream",
          "text": [
            "t검정 통계량 = 0.463, pvalue = 0.646\n"
          ],
          "name": "stdout"
        }
      ]
    },
    {
      "cell_type": "markdown",
      "metadata": {
        "id": "CigYbc2m1__t"
      },
      "source": [
        "* 귀무가설 : m = 0 ( 차이가 없다. = 느티나무와 왕벚나무의 평균에 차이가 없다.)\n",
        "\n",
        "* 대립가설 : m =! 0  (차이가 있다. = 평균 느티나무 수가 왕벚나무 수의 평균은 같지 않다.)\n",
        "\n",
        "'같지 않다'라는 내용의 대립 가설 이므로 두 평균의 차이가 음수이든 양수이든 상관이 없다. 즉,  양측 가설 검정을 한다.  \n",
        "\n",
        " pvalue = 0.646 > 0.05 이므로 유의수준 5%에서 귀무가설을 기각할 수 없다. 즉, 귀무가설 채택한다. 대립가설을 강하게 뒷받침하는 데이터가 아니므로 반대의 경우에도 귀무가설을 기각하지 못한다. #( 즉, 두 나무의 평균 그루 수에 차이가 별로 없다. ) #"
      ]
    },
    {
      "cell_type": "code",
      "metadata": {
        "colab": {
          "base_uri": "https://localhost:8080/"
        },
        "id": "grXrEThIpdb6",
        "outputId": "688d9fac-5a2b-42f6-c082-e86254d62e0d"
      },
      "source": [
        "pv3 = result.pvalue\n",
        "pv3"
      ],
      "execution_count": 121,
      "outputs": [
        {
          "output_type": "execute_result",
          "data": {
            "text/plain": [
              "0.6455096880085703"
            ]
          },
          "metadata": {
            "tags": []
          },
          "execution_count": 121
        }
      ]
    },
    {
      "cell_type": "markdown",
      "metadata": {
        "id": "vhhXvirEAeCH"
      },
      "source": [
        "\n",
        "### Two-Sample One-tailed test를 사용하여 **평균 느티나무수가 왕벚나무 수보다 크다**라는 가설에 대한 가설검정을 시행하세요.\n",
        "- 해당 가설검정의 결과를 `ans`에 저장하세요.\n",
        "\n",
        "이 때 `ans`가 가질 수 있는 값은 아래와 같습니다 :\n",
        "1. \"느티나무\" ( 느티나무의 수가 통계적으로 유의하게 많은 경우 )\n",
        "2. \"왕벚나무\" ( 왕벚나무의 수가 통계적으로 유의하게 많은 경우 )\n",
        "3. \"없음\" (통계적으로 유의하지 않은 경우)\n",
        "\n",
        "다음 링크를 참조하세요.\n",
        "<https://stackoverflow.com/questions/15984221/how-to-perform-two-sample-one-tailed-t-test-with-numpy-scipy>"
      ]
    },
    {
      "cell_type": "markdown",
      "metadata": {
        "id": "yJBBYwImvY0i"
      },
      "source": [
        "귀무가설 : m = 0 ( 차이가 없다. = 느티나무와 왕벚나무의 평균에 차이가 없다.)\n",
        "\n",
        "대립가설 : m > 0  (차이가 있다. = 평균 느티나무 수가 왕벚나무 수보다 크다.)\n",
        "\n",
        "\n"
      ]
    },
    {
      "cell_type": "code",
      "metadata": {
        "colab": {
          "base_uri": "https://localhost:8080/"
        },
        "id": "Rhq7kK_Gx-hE",
        "outputId": "c453d2e5-aa80-413f-a9e4-b7b418ae725c"
      },
      "source": [
        "!pip install --upgrade scipy\n",
        "import scipy\n",
        "scipy.version"
      ],
      "execution_count": 122,
      "outputs": [
        {
          "output_type": "stream",
          "text": [
            "Requirement already up-to-date: scipy in /usr/local/lib/python3.7/dist-packages (1.6.3)\n",
            "Requirement already satisfied, skipping upgrade: numpy<1.23.0,>=1.16.5 in /usr/local/lib/python3.7/dist-packages (from scipy) (1.19.5)\n"
          ],
          "name": "stdout"
        },
        {
          "output_type": "execute_result",
          "data": {
            "text/plain": [
              "<module 'scipy.version' from '/usr/local/lib/python3.7/dist-packages/scipy/version.py'>"
            ]
          },
          "metadata": {
            "tags": []
          },
          "execution_count": 122
        }
      ]
    },
    {
      "cell_type": "code",
      "metadata": {
        "id": "bCE3UgpbP69p",
        "colab": {
          "base_uri": "https://localhost:8080/"
        },
        "outputId": "9ebef051-e2d1-4088-f4b9-96af4383fb1c"
      },
      "source": [
        "# 이 곳에 답안을 작성하시기 바랍니다\n",
        "\n",
        "\n",
        "result = stats.ttest_ind(trees['느티나무'], trees['왕벚나무'])\n",
        "\n",
        "result = result.pvalue / 2\n",
        "print(' pvalue = %.3f'%(result))"
      ],
      "execution_count": 123,
      "outputs": [
        {
          "output_type": "stream",
          "text": [
            " pvalue = 0.323\n"
          ],
          "name": "stdout"
        }
      ]
    },
    {
      "cell_type": "markdown",
      "metadata": {
        "id": "0oB4GXpyqt61"
      },
      "source": [
        "* 귀무가설 : m = 0 ( 차이가 없다. = 느티나무와 왕벚나무의 평균에 차이가 없다.)\n",
        "\n",
        "* 대립가설 : m > 0  (차이가 있다. = 평균 느티나무 수가 왕벚나무 수보다 크다.)\n",
        "\n",
        "단측 가설 검정 결과 \n",
        "\n",
        " pvalue = 0.323 > 0.05 이므로 유의수준 5%에서 귀무가설을 기각할 수 없다. 즉, 귀무가설 채택한다. 대립가설을 강하게 뒷받침하는 데이터가 아니므로 반대의 경우에도 귀무가설을 기각하지 못한다. #( 즉, 두 나무의 평균 그루 수에 차이가 별로 없다. ) #"
      ]
    },
    {
      "cell_type": "code",
      "metadata": {
        "colab": {
          "base_uri": "https://localhost:8080/",
          "height": 36
        },
        "id": "o_4y50Mmq-iZ",
        "outputId": "fba3f76a-28c0-48ce-9377-81adb906f712"
      },
      "source": [
        "ans = \"없다\" \n",
        "ans"
      ],
      "execution_count": 124,
      "outputs": [
        {
          "output_type": "execute_result",
          "data": {
            "application/vnd.google.colaboratory.intrinsic+json": {
              "type": "string"
            },
            "text/plain": [
              "'없다'"
            ]
          },
          "metadata": {
            "tags": []
          },
          "execution_count": 124
        }
      ]
    },
    {
      "cell_type": "code",
      "metadata": {
        "id": "O6ekn6VYC67Z",
        "colab": {
          "base_uri": "https://localhost:8080/"
        },
        "outputId": "25a7d4c1-e26b-426b-85c5-74858b860242"
      },
      "source": [
        "\n",
        "result = stats.ttest_ind(trees['왕벚나무'], trees['느티나무'])\n",
        "print('t검정 통계량 = %.3f, pvalue = %.3f'%(result))"
      ],
      "execution_count": 125,
      "outputs": [
        {
          "output_type": "stream",
          "text": [
            "t검정 통계량 = -0.463, pvalue = 0.646\n"
          ],
          "name": "stdout"
        }
      ]
    },
    {
      "cell_type": "code",
      "metadata": {
        "colab": {
          "base_uri": "https://localhost:8080/"
        },
        "id": "J0nL7oO_2YNy",
        "outputId": "dadb995e-d2fa-484b-f0b6-4e913023dd9b"
      },
      "source": [
        "pv3\n"
      ],
      "execution_count": 132,
      "outputs": [
        {
          "output_type": "execute_result",
          "data": {
            "text/plain": [
              "0.6455096880085703"
            ]
          },
          "metadata": {
            "tags": []
          },
          "execution_count": 132
        }
      ]
    },
    {
      "cell_type": "markdown",
      "metadata": {
        "id": "C5pkmOuKgK9Y"
      },
      "source": [
        "## 🔥 **도전과제**\n",
        "> 3문제 모두 하면 됩니다.\n",
        "\n"
      ]
    },
    {
      "cell_type": "markdown",
      "metadata": {
        "id": "3114xDdlPjFx"
      },
      "source": [
        "### 1. Compare mean for multiple-sample \n",
        " \n",
        "다음 링크를 참조하세요. <https://reneshbedre.github.io/blog/anova.html>\n",
        "\n",
        "구별, 은행나무, 양버즘나무, 느티나무에 대해서 ANOVA Test를 실행하세요.\n",
        "\n",
        "단, `서울시`, `공원녹지사업소`, `시설관리공단` 부분의 데이터는 제외합니다."
      ]
    },
    {
      "cell_type": "code",
      "metadata": {
        "id": "dPmXOHh1Cfea"
      },
      "source": [
        "# 이 곳에 답안을 작성하시기 바랍니다\n",
        "\n"
      ],
      "execution_count": 126,
      "outputs": []
    },
    {
      "cell_type": "markdown",
      "metadata": {
        "id": "nLl4aWDPCVaO"
      },
      "source": [
        "### 2. Sampling\n",
        "\n",
        "- 세션 시간에 배웠던 4가지 sample 방식을 구현해보세요.\n",
        "\n",
        "- 이를 위한 데이터는 1 부터 100 이며, sampling해야 하는 수는 20개 입니다.\n",
        "\n",
        "- Stratified random sampling을 위한 그룹을 나누는 기준은 1-10, 11-20, ... 과 같은 방식입니다.\n",
        "\n",
        "- Cluster sampling 을 위한 그룹을 나누는 기준은 5로 나눴을때의 나머지 값입니다. (0,1,2,3,4)"
      ]
    },
    {
      "cell_type": "code",
      "metadata": {
        "id": "QUPwaynLAQjS"
      },
      "source": [
        "# 이 곳에 답안을 작성하시기 바랍니다"
      ],
      "execution_count": 127,
      "outputs": []
    },
    {
      "cell_type": "markdown",
      "metadata": {
        "id": "3PdoNE4VvVnR"
      },
      "source": [
        "### 3. Data transform\n",
        "다음 링크를 참조하여  `Inverse transform sampling` 을 구현합니다.\n",
        "\n",
        "<https://youtu.be/9ixzzPQWuAY>\n",
        "\n",
        "0 ~ 1 의 값을 동일한 확률로 갖는 `uniform distribution`으로 부터 `binomial distribution`으로 transform 하는 코드를 작성한 뒤, 두가지 결과를 시각화를 통해 비교하세요.\n"
      ]
    },
    {
      "cell_type": "code",
      "metadata": {
        "id": "nE9tvkLbwOGd"
      },
      "source": [
        "# 이 곳에 답안을 작성하시기 바랍니다"
      ],
      "execution_count": 128,
      "outputs": []
    }
  ]
}